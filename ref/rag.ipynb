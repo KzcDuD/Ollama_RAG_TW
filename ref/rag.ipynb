{
 "cells": [
  {
   "cell_type": "code",
   "execution_count": 1,
   "metadata": {},
   "outputs": [
    {
     "name": "stderr",
     "output_type": "stream",
     "text": [
      "/Users/chihhlinn/Library/Python/3.9/lib/python/site-packages/tqdm/auto.py:21: TqdmWarning: IProgress not found. Please update jupyter and ipywidgets. See https://ipywidgets.readthedocs.io/en/stable/user_install.html\n",
      "  from .autonotebook import tqdm as notebook_tqdm\n"
     ]
    }
   ],
   "source": [
    "from datasets import load_dataset\n",
    "\n",
    "dataset = load_dataset(\"NTTUNLPTEAM/class-textbook\",split='train')\n"
   ]
  },
  {
   "cell_type": "code",
   "execution_count": 5,
   "metadata": {},
   "outputs": [
    {
     "name": "stdout",
     "output_type": "stream",
     "text": [
      "['Document', 'Document', 'Document', 'Document', 'Document', 'Document', 'Document', 'Document', 'Document', 'Document', 'Document', 'Document', 'Document', 'Document', 'Document', 'Document', 'Document', 'Document', 'Document', 'Document', 'Document', 'Document', 'Document', 'Document', 'Document', 'Document', 'Document', 'Document', 'Document', 'Document', 'Document', 'Document', 'Document', 'Document', 'Document', 'Document', 'Document', 'Document', 'Document', 'Document', 'Document', 'Document', 'Document', 'Document', 'Document', 'Document', 'Document', 'Document', 'Document', 'Document', 'Document', 'Document', 'Document', 'Document', 'Document', 'Document', 'Document', 'Document', 'Document', 'Document', 'Document', 'Document', 'Document', 'Document', 'Document', 'Document', 'Document', 'Document', 'Document', 'Document', 'Document', 'Document', 'Document', 'Document', 'Document', 'Document', 'Document', 'Document', 'Document', 'Document', 'Document', 'Document', 'Document', 'Document', 'Document', 'Document', 'Document', 'Document', 'Document', 'Document', 'Document', 'Document', 'Document', 'Document', 'Document', 'Document', 'Document', 'Document', 'Document', 'Document', 'Document', 'Document', 'Document', 'Document', 'Document', 'Document', 'Document', 'Document', 'Document', 'Document', 'Document', 'Document', 'Document', 'Document', 'Document', 'Document', 'Document', 'Document', 'Document', 'Document', 'Document', 'Document', 'Document', 'Document', 'Document', 'Document', 'Document', 'Document', 'Document', 'Document', 'Document', 'Document', 'Document', 'Document', 'Document', 'Document', 'Document', 'Document', 'Document', 'Document', 'Document', 'Document', 'Document', 'Document', 'Document', 'Document', 'Document', 'Document', 'Document', 'Document', 'Document', 'Document', 'Document', 'Document', 'Document', 'Document', 'Document', 'Document', 'Document', 'Document', 'Document', 'Document', 'Document', 'Document', 'Document', 'Document', 'Document', 'Document', 'Document', 'Document', 'Document', 'Document', 'Document', 'Document', 'Document', 'Document', 'Document', 'Document', 'Document', 'Document', 'Document', 'Document', 'Document', 'Document', 'Document', 'Document', 'Document', 'Document', 'Document', 'Document', 'Document', 'Document', 'Document', 'Document', 'Document', 'Document', 'Document', 'Document', 'Document', 'Document', 'Document', 'Document', 'Document', 'Document', 'Document', 'Document', 'Document', 'Document', 'Document', 'Document', 'Document', 'Document', 'Document', 'Document', 'Document', 'Document', 'Document', 'Document', 'Document', 'Document', 'Document', 'Document', 'Document', 'Document', 'Document', 'Document', 'Document', 'Document', 'Document', 'Document', 'Document', 'Document', 'Document', 'Document', 'Document', 'Document', 'Document', 'Document', 'Document', 'Document', 'Document', 'Document', 'Document', 'Document', 'Document', 'Document', 'Document', 'Document', 'Document', 'Document', 'Document', 'Document', 'Document', 'Document', 'Document', 'Document', 'Document', 'Document', 'Document', 'Document', 'Document', 'Document', 'Document', 'Document', 'Document', 'Document', 'Document', 'Document', 'Document', 'Document', 'Document', 'Document', 'Document', 'Document', 'Document', 'Document', 'Document', 'Document', 'Document', 'Document', 'Document', 'Document', 'Document', 'Document', 'Document', 'Document', 'Document', 'Document', 'Document', 'Document', 'Document', 'Document', 'Document', 'Document', 'Document', 'Document', 'Document', 'Document', 'Document', 'Document', 'Document', 'Document', 'Document', 'Document', 'Document', 'Document', 'Document', 'Document', 'Document', 'Document', 'Document', 'Document', 'Document', 'Document', 'Document', 'Document', 'Document', 'Document', 'Document', 'Document', 'Document', 'Document', 'Document', 'Document', 'Document', 'Document', 'Document', 'Document', 'Document', 'Document', 'Document', 'Document', 'Document', 'Document', 'Document', 'Document', 'Document', 'Document', 'Document', 'Document', 'Document', 'Document', 'Document', 'Document', 'Document', 'Document', 'Document', 'Document', 'Document', 'Document', 'Document', 'Document', 'Document', 'Document', 'Document', 'Document', 'Document', 'Document', 'Document', 'Document', 'Document', 'Document', 'Document', 'Document', 'Document', 'Document', 'Document', 'Document', 'Document', 'Document', 'Document', 'Document', 'Document', 'Document', 'Document', 'Document', 'Document', 'Document', 'Document', 'Document', 'Document', 'Document', 'Document', 'Document', 'Document', 'Document', 'Document', 'Document', 'Document', 'Document', 'Document', 'Document', 'Document', 'Document', 'Document', 'Document', 'Document', 'Document', 'Document', 'Document', 'Document', 'Document', 'Document', 'Document', 'Document', 'Document', 'Document', 'Document', 'Document', 'Document', 'Document', 'Document', 'Document', 'Document', 'Document', 'Document', 'Document', 'Document', 'Document', 'Document', 'Document', 'Document', 'Document', 'Document', 'Document', 'Document', 'Document', 'Document', 'Document', 'Document', 'Document', 'Document', 'Document', 'Document', 'Document', 'Document', 'Document', 'Document', 'Document', 'Document', 'Document', 'Document', 'Document', 'Document', 'Document', 'Document', 'Document', 'Document', 'Document', 'Document', 'Document', 'Document', 'Document', 'Document', 'Document', 'Document', 'Document', 'Document', 'Document', 'Document', 'Document', 'Document', 'Document', 'Document', 'Document', 'Document', 'Document', 'Document', 'Document', 'Document', 'Document', 'Document', 'Document', 'Document', 'Document', 'Document', 'Document', 'Document', 'Document', 'Document', 'Document', 'Document', 'Document', 'Document', 'Document', 'Document', 'Document', 'Document', 'Document', 'Document', 'Document', 'Document', 'Document', 'Document', 'Document', 'Document', 'Document', 'Document', 'Document', 'Document', 'Document', 'Document', 'Document', 'Document', 'Document', 'Document', 'Document', 'Document', 'Document', 'Document', 'Document', 'Document', 'Document', 'Document', 'Document', 'Document', 'Document', 'Document', 'Document', 'Document', 'Document', 'Document', 'Document', 'Document', 'Document', 'Document', 'Document', 'Document', 'Document', 'Document', 'Document', 'Document', 'Document', 'Document', 'Document', 'Document', 'Document', 'Document', 'Document', 'Document', 'Document', 'Document', 'Document', 'Document', 'Document', 'Document', 'Document', 'Document', 'Document', 'Document', 'Document', 'Document', 'Document', 'Document', 'Document', 'Document', 'Document', 'Document', 'Document', 'Document', 'Document', 'Document', 'Document', 'Document', 'Document', 'Document', 'Document', 'Document', 'Document', 'Document', 'Document', 'Document', 'Document', 'Document', 'Document', 'Document', 'Document', 'Document', 'Document', 'Document', 'Document', 'Document', 'Document', 'Document', 'Document', 'Document', 'Document', 'Document', 'Document', 'Document', 'Document', 'Document', 'Document', 'Document', 'Document', 'Document', 'Document', 'Document', 'Document', 'Document', 'Document', 'Document', 'Document', 'Document', 'Document', 'Document', 'Document', 'Document', 'Document', 'Document', 'Document', 'Document', 'Document', 'Document', 'Document', 'Document', 'Document', 'Document', 'Document', 'Document', 'Document', 'Document', 'Document', 'Document', 'Document', 'Document', 'Document', 'Document', 'Document', 'Document', 'Document', 'Document', 'Document', 'Document', 'Document', 'Document', 'Document', 'Document', 'Document', 'Document', 'Document', 'Document', 'Document', 'Document', 'Document', 'Document', 'Document', 'Document', 'Document', 'Document', 'Document', 'Document', 'Document', 'Document', 'Document', 'Document', 'Document', 'Document', 'Document', 'Document', 'Document', 'Document', 'Document', 'Document', 'Document', 'Document', 'Document', 'Document', 'Document', 'Document', 'Document', 'Document', 'Document', 'Document', 'Document', 'Document', 'Document', 'Document', 'Document', 'Document', 'Document', 'Document', 'Document', 'Document', 'Document', 'Document', 'Document', 'Document', 'Document', 'Document', 'Document', 'Document', 'Document', 'Document', 'Document', 'Document', 'Document', 'Document', 'Document', 'Document', 'Document', 'Document', 'Document', 'Document', 'Document', 'Document', 'Document', 'Document', 'Document', 'Document', 'Document', 'Document', 'Document', 'Document', 'Document', 'Document', 'Document', 'Document', 'Document', 'Document', 'Document', 'Document', 'Document', 'Document', 'Document', 'Document', 'Document', 'Document', 'Document', 'Document', 'Document', 'Document', 'Document', 'Document', 'Document', 'Document', 'Document', 'Document', 'Document', 'Document', 'Document', 'Document', 'Document', 'Document', 'Document', 'Document', 'Document', 'Document', 'Document', 'Document', 'Document', 'Document', 'Document', 'Document', 'Document', 'Document', 'Document', 'Document', 'Document', 'Document', 'Document', 'Document', 'Document', 'Document', 'Document', 'Document', 'Document', 'Document', 'Document', 'Document', 'Document', 'Document', 'Document', 'Document', 'Document', 'Document', 'Document', 'Document', 'Document', 'Document', 'Document', 'Document', 'Document', 'Document', 'Document', 'Document', 'Document', 'Document', 'Document', 'Document', 'Document', 'Document', 'Document', 'Document', 'Document', 'Document', 'Document', 'Document', 'Document', 'Document', 'Document', 'Document', 'Document', 'Document', 'Document', 'Document', 'Document', 'Document', 'Document', 'Document', 'Document', 'Document', 'Document', 'Document', 'Document']\n"
     ]
    }
   ],
   "source": [
    "print(dataset[\"type\"])"
   ]
  },
  {
   "cell_type": "code",
   "execution_count": 12,
   "metadata": {},
   "outputs": [],
   "source": [
    "def format_func(data):\n",
    "    return f\"text: {data['text']}, metadata: {data['metadata']}, type: {data['type']}, summary: {data['summary']}\""
   ]
  },
  {
   "cell_type": "code",
   "execution_count": 24,
   "metadata": {},
   "outputs": [],
   "source": [
    "from dotenv import load_dotenv\n",
    "load_dotenv()\n",
    "\n",
    "from langchain_community.vectorstores.faiss import FAISS\n",
    "from langchain_community.embeddings import OpenAIEmbeddings\n",
    "from langchain.text_splitter import RecursiveCharacterTextSplitter\n",
    "\n",
    "text_splitter = RecursiveCharacterTextSplitter(chunk_size=1000, chunk_overlap=200)\n",
    "splits = text_splitter.split_text(format_func(dataset))\n",
    "\n",
    "# if os.path.exists(\"./dataset/faiss_db\"):\n",
    "vectorstore = FAISS.from_texts(texts=splits, embedding=OpenAIEmbeddings())\n",
    "# vectorstore.save_local(\"faiss_index\")\n",
    "    \n",
    "# else:\n",
    "# vectorstore = FAISS.load_local(folder_path= \"./database/faiss_db\",embeddings=OpenAIEmbeddings, allow_dangerous_deserialization=True)\n",
    "\n",
    "# Retrieve and generate using the relevant snippets of the blog.\n",
    "retriever = vectorstore.as_retriever()"
   ]
  },
  {
   "cell_type": "code",
   "execution_count": 25,
   "metadata": {},
   "outputs": [],
   "source": [
    "from  langchain_openai import ChatOpenAI\n",
    "llm = ChatOpenAI(model=\"gpt-3.5-turbo-0125\")"
   ]
  },
  {
   "cell_type": "code",
   "execution_count": 28,
   "metadata": {},
   "outputs": [
    {
     "name": "stdout",
     "output_type": "stream",
     "text": [
      "You are an assistant for question-answering tasks. Use the following pieces of retrieved context to answer the question. If you don't know the answer, just say that you don't know. Use three sentences maximum and keep the answer concise.\n",
      "Question: filler question \n",
      "Context: filler context \n",
      "Answer:\n"
     ]
    }
   ],
   "source": [
    "from langchain import hub\n",
    "prompt = hub.pull(\"rlm/rag-prompt\")\n",
    "example_messages = prompt.invoke(\n",
    "    {\"context\": \"filler context\", \"question\": \"filler question\"}\n",
    ").to_messages()\n",
    "example_messages\n",
    "print(example_messages[0].content)"
   ]
  },
  {
   "cell_type": "code",
   "execution_count": 31,
   "metadata": {},
   "outputs": [],
   "source": [
    "from langchain_core.output_parsers import StrOutputParser\n",
    "from langchain_core.runnables import RunnablePassthrough\n",
    "\n",
    "def format_docs(docs):\n",
    "    return \"\\n\\n\".join( doc.page_content for doc in docs)\n",
    "\n",
    "\n",
    "rag_chain = (\n",
    "    {\"context\": retriever | format_docs, \"question\": RunnablePassthrough()}\n",
    "    | prompt\n",
    "    | llm\n",
    "    | StrOutputParser()\n",
    ")"
   ]
  },
  {
   "cell_type": "code",
   "execution_count": 32,
   "metadata": {},
   "outputs": [
    {
     "data": {
      "text/plain": [
       "'The text provides an overview of medical terminology, including levels of organization, body parts, and terms of location. It also includes questions and answers that illustrate how biological systems function and interact. Healthcare professionals can benefit from understanding this information to improve patient care.\\n\\n1. What are the levels of organization of the body from simplest to most complex?\\n2. How do negative feedback mechanisms work, and how do they differ from positive feedback mechanisms?\\n3. Explain the anatomic position and the anatomic terms for body parts.\\n4. Why is it important for healthcare professionals to stay up-to-date with medical terminology and concepts?\\n5. What is the significance of understanding metabolism, metabolic rate, and homeostasis in patient care?\\n6. How can visualizing the interior of the body help in healthcare practice?\\n7. Describe the general plan of the body in terms of organization and structure.\\n8. What is the difference between the dorsal and ventral body cavities?\\n9. How do tissues and organs replace in the body?\\n10. Why is it essential for healthcare professionals to know about the terms anatomy, physiology, and pathophysiology?'"
      ]
     },
     "execution_count": 32,
     "metadata": {},
     "output_type": "execute_result"
    }
   ],
   "source": [
    "rag_chain.invoke(\"give me a summary of the text and generate ten questions\")"
   ]
  },
  {
   "cell_type": "code",
   "execution_count": 34,
   "metadata": {},
   "outputs": [
    {
     "name": "stdout",
     "output_type": "stream",
     "text": [
      "The text provides an overview of medical terminology, including levels of organization, body parts, and terms of location. It also includes questions and answers that illustrate how biological systems function and interact. Healthcare professionals can benefit from understanding this information to improve patient care.\n",
      "\n",
      "1. What are the levels of organization of the body from simplest to most complex?\n",
      "2. How do negative feedback mechanisms work, and how do they differ from positive feedback mechanisms?\n",
      "3. Explain the anatomic position and the anatomic terms for body parts.\n",
      "4. Why is it important for healthcare professionals to stay up-to-date with medical terminology and concepts?\n",
      "5. What is the significance of understanding metabolism, metabolic rate, and homeostasis in patient care?\n",
      "6. How can visualizing the interior of the body help in healthcare practice?\n",
      "7. Describe the general plan of the body in terms of organization and structure.\n",
      "8. What is the difference between the dorsal and ventral body cavities?\n",
      "9. How do tissues and organs replace in the body?\n",
      "10. Why is it essential for healthcare professionals to know about the terms anatomy, physiology, and pathophysiology?\n"
     ]
    }
   ],
   "source": [
    "str = 'The text provides an overview of medical terminology, including levels of organization, body parts, and terms of location. It also includes questions and answers that illustrate how biological systems function and interact. Healthcare professionals can benefit from understanding this information to improve patient care.\\n\\n1. What are the levels of organization of the body from simplest to most complex?\\n2. How do negative feedback mechanisms work, and how do they differ from positive feedback mechanisms?\\n3. Explain the anatomic position and the anatomic terms for body parts.\\n4. Why is it important for healthcare professionals to stay up-to-date with medical terminology and concepts?\\n5. What is the significance of understanding metabolism, metabolic rate, and homeostasis in patient care?\\n6. How can visualizing the interior of the body help in healthcare practice?\\n7. Describe the general plan of the body in terms of organization and structure.\\n8. What is the difference between the dorsal and ventral body cavities?\\n9. How do tissues and organs replace in the body?\\n10. Why is it essential for healthcare professionals to know about the terms anatomy, physiology, and pathophysiology?'\n",
    "print(str)"
   ]
  },
  {
   "cell_type": "code",
   "execution_count": 36,
   "metadata": {},
   "outputs": [
    {
     "name": "stdout",
     "output_type": "stream",
     "text": [
      "我不知道。\n"
     ]
    }
   ],
   "source": [
    "str = rag_chain.invoke(\"What are the levels of organization of the body from simplest to most complex? (answer in zh-tw)\")\n",
    "print(str)"
   ]
  },
  {
   "cell_type": "code",
   "execution_count": 38,
   "metadata": {},
   "outputs": [
    {
     "name": "stdout",
     "output_type": "stream",
     "text": [
      "The levels of organization of the body from simplest to most complex are: chemical, cells, tissues, organs, and organ systems. Each higher level incorporates the structures and functions of the previous level. All levels of organization are depicted in a diagram.\n"
     ]
    }
   ],
   "source": [
    "str = rag_chain.invoke(\"What are the levels of organization of the body from simplest to most complex?\")\n",
    "print(str)"
   ]
  },
  {
   "cell_type": "code",
   "execution_count": 40,
   "metadata": {},
   "outputs": [
    {
     "name": "stdout",
     "output_type": "stream",
     "text": [
      "我不知道。\n"
     ]
    }
   ],
   "source": [
    "str = rag_chain.invoke(\"what is Cellular Transport Mechanisms? (answer in zh-tw)\")\n",
    "print(str)\n",
    "# Cellular transport mechanisms involve processes like diffusion, osmosis, facilitated diffusion, active transport, filtration, phagocytosis, and pinocytosis for moving substances in and out of cells. Centrioles, cilia, and flagella play roles in cell division, cellular movement, and material transport within cells. Errors in DNA can lead to genetic diseases that impact protein synthesis and cellular functions."
   ]
  }
 ],
 "metadata": {
  "kernelspec": {
   "display_name": ".venv",
   "language": "python",
   "name": "python3"
  },
  "language_info": {
   "codemirror_mode": {
    "name": "ipython",
    "version": 3
   },
   "file_extension": ".py",
   "mimetype": "text/x-python",
   "name": "python",
   "nbconvert_exporter": "python",
   "pygments_lexer": "ipython3",
   "version": "3.9.6"
  },
  "orig_nbformat": 4
 },
 "nbformat": 4,
 "nbformat_minor": 2
}
