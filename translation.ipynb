{
 "cells": [
  {
   "cell_type": "code",
   "execution_count": 8,
   "metadata": {},
   "outputs": [
    {
     "name": "stdout",
     "output_type": "stream",
     "text": [
      "本文提供了醫學術語的概述，包括組織，身體部位和位置條款的水平。 它還包括說明生物系統如何運作和相互作用的問題和答案。 醫療保健專業人員可以從了解此信息中受益，以改善患者護理。 \n",
      "\n",
      " 1.身體從最簡單到最複雜的組織水平是多少？ \n",
      " 2.負反饋機制如何工作，它們與積極反饋機制有何不同？ \n",
      " 3.解釋身體部位的解剖位置和解剖術語。 \n",
      " 4.為什麼對於醫療保健專業人員而言，保持最新的醫學術語和概念很重要？ \n",
      " 5.理解代謝，代謝率和體內平衡的意義是什麼？ \n",
      " 6.對身體內部的可視化如何在醫療保健實踐中有助於？ \n",
      " 7.在組織和結構方面描述身體的一般計劃。 \n",
      " 8.背側和腹側身體腔有什麼區別？ \n",
      " 9.組織和器官如何替代體內？ \n",
      " 10.為什麼對醫療保健專業人員了解解剖學，生理學和病理生理學術語至關重要？\n"
     ]
    }
   ],
   "source": [
    "import translators as ts\n",
    "from yaml import safe_load\n",
    "\n",
    "translation_setting = safe_load(open('translation_setting.yml'))\n",
    "\n",
    "### usage\n",
    "# _ = ts.preaccelerate_and_speedtest()  # Optional. Caching sessions in advance, which can help improve access speed.\n",
    "\n",
    "query = \"\"\"The text provides an overview of medical terminology, including levels of organization, body parts, and terms of location. It also includes questions and answers that illustrate how biological systems function and interact. Healthcare professionals can benefit from understanding this information to improve patient care.\n",
    "\n",
    "1. What are the levels of organization of the body from simplest to most complex?\n",
    "2. How do negative feedback mechanisms work, and how do they differ from positive feedback mechanisms?\n",
    "3. Explain the anatomic position and the anatomic terms for body parts.\n",
    "4. Why is it important for healthcare professionals to stay up-to-date with medical terminology and concepts?\n",
    "5. What is the significance of understanding metabolism, metabolic rate, and homeostasis in patient care?\n",
    "6. How can visualizing the interior of the body help in healthcare practice?\n",
    "7. Describe the general plan of the body in terms of organization and structure.\n",
    "8. What is the difference between the dorsal and ventral body cavities?\n",
    "9. How do tissues and organs replace in the body?\n",
    "10. Why is it essential for healthcare professionals to know about the terms anatomy, physiology, and pathophysiology?'\n",
    "\"\"\"\n",
    "\n",
    "print(ts.translate_text(query_text=query, translator='google', from_language= 'en', to_language='zh-TW'))\n",
    "\n",
    "### parameters\n",
    "# help(ts.translate_text)"
   ]
  },
  {
   "cell_type": "code",
   "execution_count": null,
   "metadata": {},
   "outputs": [],
   "source": []
  }
 ],
 "metadata": {
  "kernelspec": {
   "display_name": ".venv",
   "language": "python",
   "name": "python3"
  },
  "language_info": {
   "codemirror_mode": {
    "name": "ipython",
    "version": 3
   },
   "file_extension": ".py",
   "mimetype": "text/x-python",
   "name": "python",
   "nbconvert_exporter": "python",
   "pygments_lexer": "ipython3",
   "version": "3.9.6"
  },
  "orig_nbformat": 4
 },
 "nbformat": 4,
 "nbformat_minor": 2
}
